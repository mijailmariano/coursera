{
 "cells": [
  {
   "cell_type": "markdown",
   "metadata": {},
   "source": [
    "### Supervised Machine Learning Introduction: Regression and Classification\n",
    "    date: Monday, July 18th 2022\n",
    "\n",
    "----\n",
    "\n",
    "**<u>Supervised Machine Learning:</u>**\n",
    "\n",
    "- more common than \"unsupervised\" learning\n",
    "- works with \"input\" (X) and \"output\" (y) variables | \"mapping (X) inputs to (y) outputs\"\n",
    "- ML algorithm learns from the given \"right answers\"\n",
    "\n",
    "  \n",
    "**for example:**\n",
    "    \n",
    "| input (X) | output (y) | Application |\n",
    "|----|----|----|\n",
    "| emails | spam? (0/1) | spam filtering |\n",
    "| audio | text transcripts | speech recognition |\n",
    "|English | Spanish | machine translation |\n",
    "ad, user info | click? (0/1) | online advertisement |\n",
    "\n",
    "----\n",
    "\n",
    "``Regression Problem: \"Predicting House Price\"``\n",
    "\n",
    "- Regression focuses on predicting a numberical/conteneous output \n",
    "- where there are infitely many possible outputs\n",
    "\n",
    "----\n",
    "\n",
    "``Classification``\n",
    "\n",
    "- where a key focus is predicting a \"boundary line\" to determine a particular class or category of an output \n",
    "\n",
    "\n"
   ]
  },
  {
   "cell_type": "markdown",
   "metadata": {},
   "source": [
    "<u>**Unsupervised Machine Learning Techniques/Methods:**</u>\n",
    "\n",
    "- **\"clustering\"** method\n",
    "- \"unsupervised learning is typically used to find something interesting the data\"\n",
    "- typically uses a \"clustering\" algorithm\n",
    "- data only comes with inputs (x), but not output labels (y)\n",
    "- algorithm has to find and determine structure in the data\n",
    "  - examples of clustering algorithms:\n",
    "    - similar online news articles that are suggested to you\n",
    "    - creating \"classifications of human\" genetics based on certain dna patterns\n",
    "<br></br>\n",
    "\n",
    "- **\"anomaly detection\"** method\n"
   ]
  },
  {
   "cell_type": "markdown",
   "metadata": {},
   "source": []
  }
 ],
 "metadata": {
  "kernelspec": {
   "display_name": "Python 3.9.12 ('base')",
   "language": "python",
   "name": "python3"
  },
  "language_info": {
   "name": "python",
   "version": "3.9.12"
  },
  "orig_nbformat": 4,
  "vscode": {
   "interpreter": {
    "hash": "40d3a090f54c6569ab1632332b64b2c03c39dcf918b08424e98f38b5ae0af88f"
   }
  }
 },
 "nbformat": 4,
 "nbformat_minor": 2
}
